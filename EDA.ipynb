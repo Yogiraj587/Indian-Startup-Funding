{
 "cells": [
  {
   "cell_type": "code",
   "execution_count": 3,
   "metadata": {},
   "outputs": [],
   "source": [
    "import numpy as np\n",
    "import pandas as pd\n",
    "import matplotlib.pyplot as plt\n",
    "import seaborn as sns"
   ]
  },
  {
   "cell_type": "code",
   "execution_count": 4,
   "metadata": {},
   "outputs": [
    {
     "data": {
      "text/html": [
       "<div>\n",
       "<style scoped>\n",
       "    .dataframe tbody tr th:only-of-type {\n",
       "        vertical-align: middle;\n",
       "    }\n",
       "\n",
       "    .dataframe tbody tr th {\n",
       "        vertical-align: top;\n",
       "    }\n",
       "\n",
       "    .dataframe thead th {\n",
       "        text-align: right;\n",
       "    }\n",
       "</style>\n",
       "<table border=\"1\" class=\"dataframe\">\n",
       "  <thead>\n",
       "    <tr style=\"text-align: right;\">\n",
       "      <th></th>\n",
       "      <th>Unnamed: 0</th>\n",
       "      <th>Sr. No.</th>\n",
       "      <th>Date (dd/mm/yyyy)</th>\n",
       "      <th>Startup Name</th>\n",
       "      <th>Industry/ Vertical</th>\n",
       "      <th>Sub-Vertical</th>\n",
       "      <th>City / Location</th>\n",
       "      <th>Investors’ Name</th>\n",
       "      <th>Investment Type</th>\n",
       "      <th>Amount (in USD)</th>\n",
       "    </tr>\n",
       "  </thead>\n",
       "  <tbody>\n",
       "    <tr>\n",
       "      <th>0</th>\n",
       "      <td>0</td>\n",
       "      <td>1.0</td>\n",
       "      <td>01/08/2015</td>\n",
       "      <td>Snapdeal</td>\n",
       "      <td>Ecommerce Marketplace</td>\n",
       "      <td>New Delhi</td>\n",
       "      <td>Alibaba, Foxconn, Softbank</td>\n",
       "      <td>Private Equity</td>\n",
       "      <td>500,000,000</td>\n",
       "      <td>Late Stage Round 7th (More details)</td>\n",
       "    </tr>\n",
       "    <tr>\n",
       "      <th>1</th>\n",
       "      <td>1</td>\n",
       "      <td>2.0</td>\n",
       "      <td>01/08/2015</td>\n",
       "      <td>Ressy</td>\n",
       "      <td>Restaurant Discount app</td>\n",
       "      <td>Pune</td>\n",
       "      <td>Mohandas Pai &amp; others</td>\n",
       "      <td>Seed Funding</td>\n",
       "      <td>400,000</td>\n",
       "      <td>NaN</td>\n",
       "    </tr>\n",
       "    <tr>\n",
       "      <th>2</th>\n",
       "      <td>2</td>\n",
       "      <td>3.0</td>\n",
       "      <td>03/08/2015</td>\n",
       "      <td>Cuelearn</td>\n",
       "      <td>Tech-enabled learning</td>\n",
       "      <td>New Delhi</td>\n",
       "      <td>Alok Mittal</td>\n",
       "      <td>Seed Funding</td>\n",
       "      <td>NaN</td>\n",
       "      <td>NaN</td>\n",
       "    </tr>\n",
       "    <tr>\n",
       "      <th>3</th>\n",
       "      <td>3</td>\n",
       "      <td>4.0</td>\n",
       "      <td>03/08/2015</td>\n",
       "      <td>Connect India</td>\n",
       "      <td>ECommerce Logistics provider</td>\n",
       "      <td>New Delhi</td>\n",
       "      <td>Aavishkaar</td>\n",
       "      <td>Private Equity</td>\n",
       "      <td>5,000,000</td>\n",
       "      <td>Series A</td>\n",
       "    </tr>\n",
       "    <tr>\n",
       "      <th>4</th>\n",
       "      <td>4</td>\n",
       "      <td>5.0</td>\n",
       "      <td>03/08/2015</td>\n",
       "      <td>The Home Salon</td>\n",
       "      <td>on-demand home beauty and wellness portal</td>\n",
       "      <td>Mumbai</td>\n",
       "      <td>VentureNursery</td>\n",
       "      <td>Seed Funding</td>\n",
       "      <td>NaN</td>\n",
       "      <td>NaN</td>\n",
       "    </tr>\n",
       "  </tbody>\n",
       "</table>\n",
       "</div>"
      ],
      "text/plain": [
       "   Unnamed: 0  Sr. No. Date (dd/mm/yyyy)    Startup Name  \\\n",
       "0           0      1.0        01/08/2015        Snapdeal   \n",
       "1           1      2.0        01/08/2015           Ressy   \n",
       "2           2      3.0        03/08/2015        Cuelearn   \n",
       "3           3      4.0        03/08/2015   Connect India   \n",
       "4           4      5.0        03/08/2015  The Home Salon   \n",
       "\n",
       "                          Industry/ Vertical Sub-Vertical  \\\n",
       "0                      Ecommerce Marketplace    New Delhi   \n",
       "1                    Restaurant Discount app         Pune   \n",
       "2                      Tech-enabled learning    New Delhi   \n",
       "3               ECommerce Logistics provider    New Delhi   \n",
       "4  on-demand home beauty and wellness portal       Mumbai   \n",
       "\n",
       "              City / Location Investors’ Name Investment Type  \\\n",
       "0  Alibaba, Foxconn, Softbank  Private Equity     500,000,000   \n",
       "1       Mohandas Pai & others    Seed Funding         400,000   \n",
       "2                 Alok Mittal    Seed Funding             NaN   \n",
       "3                  Aavishkaar  Private Equity       5,000,000   \n",
       "4              VentureNursery    Seed Funding             NaN   \n",
       "\n",
       "                       Amount (in USD)  \n",
       "0  Late Stage Round 7th (More details)  \n",
       "1                                  NaN  \n",
       "2                                  NaN  \n",
       "3                             Series A  \n",
       "4                                  NaN  "
      ]
     },
     "execution_count": 4,
     "metadata": {},
     "output_type": "execute_result"
    }
   ],
   "source": [
    "df = pd.read_csv(\"Startup funding.csv\")\n",
    "df.head()"
   ]
  },
  {
   "cell_type": "code",
   "execution_count": 5,
   "metadata": {},
   "outputs": [],
   "source": [
    "df.drop(['Unnamed: 0'], axis=1,inplace=True)"
   ]
  },
  {
   "cell_type": "code",
   "execution_count": 6,
   "metadata": {},
   "outputs": [],
   "source": [
    "df.drop(['Sr. No.'], axis=1,inplace=True)"
   ]
  },
  {
   "cell_type": "code",
   "execution_count": 7,
   "metadata": {},
   "outputs": [
    {
     "data": {
      "text/html": [
       "<div>\n",
       "<style scoped>\n",
       "    .dataframe tbody tr th:only-of-type {\n",
       "        vertical-align: middle;\n",
       "    }\n",
       "\n",
       "    .dataframe tbody tr th {\n",
       "        vertical-align: top;\n",
       "    }\n",
       "\n",
       "    .dataframe thead th {\n",
       "        text-align: right;\n",
       "    }\n",
       "</style>\n",
       "<table border=\"1\" class=\"dataframe\">\n",
       "  <thead>\n",
       "    <tr style=\"text-align: right;\">\n",
       "      <th></th>\n",
       "      <th>Date (dd/mm/yyyy)</th>\n",
       "      <th>Startup Name</th>\n",
       "      <th>Industry/ Vertical</th>\n",
       "      <th>Sub-Vertical</th>\n",
       "      <th>City / Location</th>\n",
       "      <th>Investors’ Name</th>\n",
       "      <th>Investment Type</th>\n",
       "      <th>Amount (in USD)</th>\n",
       "    </tr>\n",
       "  </thead>\n",
       "  <tbody>\n",
       "    <tr>\n",
       "      <th>0</th>\n",
       "      <td>01/08/2015</td>\n",
       "      <td>Snapdeal</td>\n",
       "      <td>Ecommerce Marketplace</td>\n",
       "      <td>New Delhi</td>\n",
       "      <td>Alibaba, Foxconn, Softbank</td>\n",
       "      <td>Private Equity</td>\n",
       "      <td>500,000,000</td>\n",
       "      <td>Late Stage Round 7th (More details)</td>\n",
       "    </tr>\n",
       "    <tr>\n",
       "      <th>1</th>\n",
       "      <td>01/08/2015</td>\n",
       "      <td>Ressy</td>\n",
       "      <td>Restaurant Discount app</td>\n",
       "      <td>Pune</td>\n",
       "      <td>Mohandas Pai &amp; others</td>\n",
       "      <td>Seed Funding</td>\n",
       "      <td>400,000</td>\n",
       "      <td>NaN</td>\n",
       "    </tr>\n",
       "    <tr>\n",
       "      <th>2</th>\n",
       "      <td>03/08/2015</td>\n",
       "      <td>Cuelearn</td>\n",
       "      <td>Tech-enabled learning</td>\n",
       "      <td>New Delhi</td>\n",
       "      <td>Alok Mittal</td>\n",
       "      <td>Seed Funding</td>\n",
       "      <td>NaN</td>\n",
       "      <td>NaN</td>\n",
       "    </tr>\n",
       "    <tr>\n",
       "      <th>3</th>\n",
       "      <td>03/08/2015</td>\n",
       "      <td>Connect India</td>\n",
       "      <td>ECommerce Logistics provider</td>\n",
       "      <td>New Delhi</td>\n",
       "      <td>Aavishkaar</td>\n",
       "      <td>Private Equity</td>\n",
       "      <td>5,000,000</td>\n",
       "      <td>Series A</td>\n",
       "    </tr>\n",
       "    <tr>\n",
       "      <th>4</th>\n",
       "      <td>03/08/2015</td>\n",
       "      <td>The Home Salon</td>\n",
       "      <td>on-demand home beauty and wellness portal</td>\n",
       "      <td>Mumbai</td>\n",
       "      <td>VentureNursery</td>\n",
       "      <td>Seed Funding</td>\n",
       "      <td>NaN</td>\n",
       "      <td>NaN</td>\n",
       "    </tr>\n",
       "  </tbody>\n",
       "</table>\n",
       "</div>"
      ],
      "text/plain": [
       "  Date (dd/mm/yyyy)    Startup Name  \\\n",
       "0        01/08/2015        Snapdeal   \n",
       "1        01/08/2015           Ressy   \n",
       "2        03/08/2015        Cuelearn   \n",
       "3        03/08/2015   Connect India   \n",
       "4        03/08/2015  The Home Salon   \n",
       "\n",
       "                          Industry/ Vertical Sub-Vertical  \\\n",
       "0                      Ecommerce Marketplace    New Delhi   \n",
       "1                    Restaurant Discount app         Pune   \n",
       "2                      Tech-enabled learning    New Delhi   \n",
       "3               ECommerce Logistics provider    New Delhi   \n",
       "4  on-demand home beauty and wellness portal       Mumbai   \n",
       "\n",
       "              City / Location Investors’ Name Investment Type  \\\n",
       "0  Alibaba, Foxconn, Softbank  Private Equity     500,000,000   \n",
       "1       Mohandas Pai & others    Seed Funding         400,000   \n",
       "2                 Alok Mittal    Seed Funding             NaN   \n",
       "3                  Aavishkaar  Private Equity       5,000,000   \n",
       "4              VentureNursery    Seed Funding             NaN   \n",
       "\n",
       "                       Amount (in USD)  \n",
       "0  Late Stage Round 7th (More details)  \n",
       "1                                  NaN  \n",
       "2                                  NaN  \n",
       "3                             Series A  \n",
       "4                                  NaN  "
      ]
     },
     "execution_count": 7,
     "metadata": {},
     "output_type": "execute_result"
    }
   ],
   "source": [
    "df.head()"
   ]
  },
  {
   "cell_type": "code",
   "execution_count": 8,
   "metadata": {},
   "outputs": [
    {
     "name": "stdout",
     "output_type": "stream",
     "text": [
      "<class 'pandas.core.frame.DataFrame'>\n",
      "RangeIndex: 3511 entries, 0 to 3510\n",
      "Data columns (total 8 columns):\n",
      " #   Column              Non-Null Count  Dtype \n",
      "---  ------              --------------  ----- \n",
      " 0   Date (dd/mm/yyyy)   3471 non-null   object\n",
      " 1   Startup Name        3455 non-null   object\n",
      " 2   Industry/ Vertical  3455 non-null   object\n",
      " 3   Sub-Vertical        3452 non-null   object\n",
      " 4   City / Location     3403 non-null   object\n",
      " 5   Investors’ Name     3313 non-null   object\n",
      " 6   Investment Type     3039 non-null   object\n",
      " 7   Amount (in USD)     2145 non-null   object\n",
      "dtypes: object(8)\n",
      "memory usage: 219.6+ KB\n"
     ]
    }
   ],
   "source": [
    "df.info()"
   ]
  },
  {
   "cell_type": "code",
   "execution_count": 9,
   "metadata": {},
   "outputs": [
    {
     "data": {
      "text/plain": [
       "Date (dd/mm/yyyy)       40\n",
       "Startup Name            56\n",
       "Industry/ Vertical      56\n",
       "Sub-Vertical            59\n",
       "City / Location        108\n",
       "Investors’ Name        198\n",
       "Investment Type        472\n",
       "Amount (in USD)       1366\n",
       "dtype: int64"
      ]
     },
     "execution_count": 9,
     "metadata": {},
     "output_type": "execute_result"
    }
   ],
   "source": [
    "df.isnull().sum()"
   ]
  },
  {
   "cell_type": "code",
   "execution_count": 10,
   "metadata": {},
   "outputs": [
    {
     "data": {
      "text/plain": [
       "(3511, 8)"
      ]
     },
     "execution_count": 10,
     "metadata": {},
     "output_type": "execute_result"
    }
   ],
   "source": [
    "df.dropna(how='all')\n",
    "df.shape"
   ]
  },
  {
   "cell_type": "code",
   "execution_count": 11,
   "metadata": {},
   "outputs": [
    {
     "name": "stdout",
     "output_type": "stream",
     "text": [
      "<class 'pandas.core.frame.DataFrame'>\n",
      "RangeIndex: 3511 entries, 0 to 3510\n",
      "Data columns (total 8 columns):\n",
      " #   Column              Non-Null Count  Dtype \n",
      "---  ------              --------------  ----- \n",
      " 0   Date (dd/mm/yyyy)   3471 non-null   object\n",
      " 1   Startup Name        3455 non-null   object\n",
      " 2   Industry/ Vertical  3455 non-null   object\n",
      " 3   Sub-Vertical        3452 non-null   object\n",
      " 4   City / Location     3403 non-null   object\n",
      " 5   Investors’ Name     3313 non-null   object\n",
      " 6   Investment Type     3039 non-null   object\n",
      " 7   Amount (in USD)     2145 non-null   object\n",
      "dtypes: object(8)\n",
      "memory usage: 219.6+ KB\n"
     ]
    }
   ],
   "source": [
    "df.info()"
   ]
  },
  {
   "cell_type": "code",
   "execution_count": 12,
   "metadata": {},
   "outputs": [
    {
     "data": {
      "text/html": [
       "<div>\n",
       "<style scoped>\n",
       "    .dataframe tbody tr th:only-of-type {\n",
       "        vertical-align: middle;\n",
       "    }\n",
       "\n",
       "    .dataframe tbody tr th {\n",
       "        vertical-align: top;\n",
       "    }\n",
       "\n",
       "    .dataframe thead th {\n",
       "        text-align: right;\n",
       "    }\n",
       "</style>\n",
       "<table border=\"1\" class=\"dataframe\">\n",
       "  <thead>\n",
       "    <tr style=\"text-align: right;\">\n",
       "      <th></th>\n",
       "      <th>Date</th>\n",
       "      <th>Startup</th>\n",
       "      <th>IndustryVertical</th>\n",
       "      <th>SubVertical</th>\n",
       "      <th>City</th>\n",
       "      <th>InvestorName</th>\n",
       "      <th>InvestmentType</th>\n",
       "      <th>Amount</th>\n",
       "    </tr>\n",
       "  </thead>\n",
       "  <tbody>\n",
       "    <tr>\n",
       "      <th>0</th>\n",
       "      <td>01/08/2015</td>\n",
       "      <td>Snapdeal</td>\n",
       "      <td>Ecommerce Marketplace</td>\n",
       "      <td>New Delhi</td>\n",
       "      <td>Alibaba, Foxconn, Softbank</td>\n",
       "      <td>Private Equity</td>\n",
       "      <td>500,000,000</td>\n",
       "      <td>Late Stage Round 7th (More details)</td>\n",
       "    </tr>\n",
       "    <tr>\n",
       "      <th>1</th>\n",
       "      <td>01/08/2015</td>\n",
       "      <td>Ressy</td>\n",
       "      <td>Restaurant Discount app</td>\n",
       "      <td>Pune</td>\n",
       "      <td>Mohandas Pai &amp; others</td>\n",
       "      <td>Seed Funding</td>\n",
       "      <td>400,000</td>\n",
       "      <td>NaN</td>\n",
       "    </tr>\n",
       "    <tr>\n",
       "      <th>2</th>\n",
       "      <td>03/08/2015</td>\n",
       "      <td>Cuelearn</td>\n",
       "      <td>Tech-enabled learning</td>\n",
       "      <td>New Delhi</td>\n",
       "      <td>Alok Mittal</td>\n",
       "      <td>Seed Funding</td>\n",
       "      <td>NaN</td>\n",
       "      <td>NaN</td>\n",
       "    </tr>\n",
       "    <tr>\n",
       "      <th>3</th>\n",
       "      <td>03/08/2015</td>\n",
       "      <td>Connect India</td>\n",
       "      <td>ECommerce Logistics provider</td>\n",
       "      <td>New Delhi</td>\n",
       "      <td>Aavishkaar</td>\n",
       "      <td>Private Equity</td>\n",
       "      <td>5,000,000</td>\n",
       "      <td>Series A</td>\n",
       "    </tr>\n",
       "    <tr>\n",
       "      <th>4</th>\n",
       "      <td>03/08/2015</td>\n",
       "      <td>The Home Salon</td>\n",
       "      <td>on-demand home beauty and wellness portal</td>\n",
       "      <td>Mumbai</td>\n",
       "      <td>VentureNursery</td>\n",
       "      <td>Seed Funding</td>\n",
       "      <td>NaN</td>\n",
       "      <td>NaN</td>\n",
       "    </tr>\n",
       "  </tbody>\n",
       "</table>\n",
       "</div>"
      ],
      "text/plain": [
       "         Date         Startup                           IndustryVertical  \\\n",
       "0  01/08/2015        Snapdeal                      Ecommerce Marketplace   \n",
       "1  01/08/2015           Ressy                    Restaurant Discount app   \n",
       "2  03/08/2015        Cuelearn                      Tech-enabled learning   \n",
       "3  03/08/2015   Connect India               ECommerce Logistics provider   \n",
       "4  03/08/2015  The Home Salon  on-demand home beauty and wellness portal   \n",
       "\n",
       "  SubVertical                        City    InvestorName InvestmentType  \\\n",
       "0   New Delhi  Alibaba, Foxconn, Softbank  Private Equity    500,000,000   \n",
       "1        Pune       Mohandas Pai & others    Seed Funding        400,000   \n",
       "2   New Delhi                 Alok Mittal    Seed Funding            NaN   \n",
       "3   New Delhi                  Aavishkaar  Private Equity      5,000,000   \n",
       "4      Mumbai              VentureNursery    Seed Funding            NaN   \n",
       "\n",
       "                                Amount  \n",
       "0  Late Stage Round 7th (More details)  \n",
       "1                                  NaN  \n",
       "2                                  NaN  \n",
       "3                             Series A  \n",
       "4                                  NaN  "
      ]
     },
     "execution_count": 12,
     "metadata": {},
     "output_type": "execute_result"
    }
   ],
   "source": [
    "df=df.rename(columns = {\"Date (dd/mm/yyyy)\": \"Date\", \"Startup Name\":\"Startup\",\"Industry/ Vertical\":\"IndustryVertical\",\"Sub-Vertical\":\"SubVertical\",\"City / Location\":\"City\",\"Investors’ Name\":\"InvestorName\",\"Investment Type\":\"InvestmentType\",\"Amount (in USD)\":\"Amount\"})\n",
    "df.head()"
   ]
  },
  {
   "cell_type": "code",
   "execution_count": 13,
   "metadata": {},
   "outputs": [],
   "source": [
    "df.loc[df['Date']==\"01/07/015\", 'Date'] = \"01/07/2015\"\n",
    "df.loc[df['Date']==\"Â 10/7/2015\", 'Date'] = \"10/07/2015\"\n",
    "df.loc[df[\"Date\"]==\"13/04.2015\", 'Date'] = \"13/04/2015\"\n",
    "df.loc[df[\"Date\"]==\"05/072018\", 'Date'] = \"05/07/2018\"\n",
    "df.loc[df[\"Date\"]==\"22/01//2015\", 'Date'] = \"22/01/2015\"\n",
    "df.loc[df['Date']==\"12/05.2015\", 'Date'] = \"12/05/2015\"\n",
    "df.loc[df['Date']==\"15/01.2015\", 'Date'] = \"15/01/2015\""
   ]
  },
  {
   "cell_type": "code",
   "execution_count": 14,
   "metadata": {},
   "outputs": [
    {
     "data": {
      "text/html": [
       "<div>\n",
       "<style scoped>\n",
       "    .dataframe tbody tr th:only-of-type {\n",
       "        vertical-align: middle;\n",
       "    }\n",
       "\n",
       "    .dataframe tbody tr th {\n",
       "        vertical-align: top;\n",
       "    }\n",
       "\n",
       "    .dataframe thead th {\n",
       "        text-align: right;\n",
       "    }\n",
       "</style>\n",
       "<table border=\"1\" class=\"dataframe\">\n",
       "  <thead>\n",
       "    <tr style=\"text-align: right;\">\n",
       "      <th></th>\n",
       "      <th>Date</th>\n",
       "      <th>Startup</th>\n",
       "      <th>IndustryVertical</th>\n",
       "      <th>SubVertical</th>\n",
       "      <th>City</th>\n",
       "      <th>InvestorName</th>\n",
       "      <th>InvestmentType</th>\n",
       "      <th>Amount</th>\n",
       "      <th>NewAmount</th>\n",
       "    </tr>\n",
       "  </thead>\n",
       "  <tbody>\n",
       "    <tr>\n",
       "      <th>347</th>\n",
       "      <td>23/08/2019</td>\n",
       "      <td>Lo! Foods</td>\n",
       "      <td>Consumer Goods</td>\n",
       "      <td>Low carb food for Diabetics</td>\n",
       "      <td>Bengaluru</td>\n",
       "      <td>Rashmi Daga (founder, FreshMenu), Raveen Sastr...</td>\n",
       "      <td>Seed Round</td>\n",
       "      <td>500,000</td>\n",
       "      <td>500,000</td>\n",
       "    </tr>\n",
       "    <tr>\n",
       "      <th>348</th>\n",
       "      <td>23/08/2019</td>\n",
       "      <td>Tala</td>\n",
       "      <td>FinTech</td>\n",
       "      <td>Digital Lending Platform</td>\n",
       "      <td>Santa Monica</td>\n",
       "      <td>RPS Ventures</td>\n",
       "      <td>Series D</td>\n",
       "      <td>110,000,000</td>\n",
       "      <td>110,000,000</td>\n",
       "    </tr>\n",
       "    <tr>\n",
       "      <th>349</th>\n",
       "      <td>22/08/2019</td>\n",
       "      <td>INDwealth</td>\n",
       "      <td>FinTech</td>\n",
       "      <td>Wealth Management</td>\n",
       "      <td>Gurgaon</td>\n",
       "      <td>Tiger Global Management</td>\n",
       "      <td>Venture Round</td>\n",
       "      <td>15,000,000</td>\n",
       "      <td>15,000,000</td>\n",
       "    </tr>\n",
       "    <tr>\n",
       "      <th>350</th>\n",
       "      <td>21/08/2019</td>\n",
       "      <td>HungerBox</td>\n",
       "      <td>Food and Beverage</td>\n",
       "      <td>B2B Foodtech</td>\n",
       "      <td>Bengaluru</td>\n",
       "      <td>One97 Communications Ltd.</td>\n",
       "      <td>Series C</td>\n",
       "      <td>6,590,000</td>\n",
       "      <td>6,590,000</td>\n",
       "    </tr>\n",
       "    <tr>\n",
       "      <th>351</th>\n",
       "      <td>23/08/2019</td>\n",
       "      <td>AdmitKard</td>\n",
       "      <td>EdTech</td>\n",
       "      <td>University Admissions</td>\n",
       "      <td>Noida</td>\n",
       "      <td>Growth DNA</td>\n",
       "      <td>Seed Round</td>\n",
       "      <td>10,00,000</td>\n",
       "      <td>10,00,000</td>\n",
       "    </tr>\n",
       "    <tr>\n",
       "      <th>352</th>\n",
       "      <td>19/08/2019</td>\n",
       "      <td>Mishry Reviews</td>\n",
       "      <td>Services</td>\n",
       "      <td>Product Review</td>\n",
       "      <td>Gurgaon</td>\n",
       "      <td>Vir Sanghvi</td>\n",
       "      <td>Series A</td>\n",
       "      <td>Undisclosed</td>\n",
       "      <td>Undisclosed</td>\n",
       "    </tr>\n",
       "    <tr>\n",
       "      <th>353</th>\n",
       "      <td>19/08/2019</td>\n",
       "      <td>Grofers</td>\n",
       "      <td>E-Commerce</td>\n",
       "      <td>Grocery Delivery</td>\n",
       "      <td>Gurgaon</td>\n",
       "      <td>Softbank Vision Fund</td>\n",
       "      <td>Series F</td>\n",
       "      <td>70,000,000</td>\n",
       "      <td>70,000,000</td>\n",
       "    </tr>\n",
       "    <tr>\n",
       "      <th>354</th>\n",
       "      <td>27/08/2019</td>\n",
       "      <td>Rapido Bike Taxi</td>\n",
       "      <td>Transportation</td>\n",
       "      <td>Bike Taxi</td>\n",
       "      <td>Bengaluru</td>\n",
       "      <td>Westbridge Capital</td>\n",
       "      <td>Series B</td>\n",
       "      <td>3,900,000,000</td>\n",
       "      <td>3,900,000,000</td>\n",
       "    </tr>\n",
       "  </tbody>\n",
       "</table>\n",
       "</div>"
      ],
      "text/plain": [
       "           Date           Startup   IndustryVertical  \\\n",
       "347  23/08/2019         Lo! Foods     Consumer Goods   \n",
       "348  23/08/2019              Tala            FinTech   \n",
       "349  22/08/2019         INDwealth            FinTech   \n",
       "350  21/08/2019         HungerBox  Food and Beverage   \n",
       "351  23/08/2019         AdmitKard             EdTech   \n",
       "352  19/08/2019    Mishry Reviews           Services   \n",
       "353  19/08/2019           Grofers         E-Commerce   \n",
       "354  27/08/2019  Rapido Bike Taxi     Transportation   \n",
       "\n",
       "                     SubVertical          City  \\\n",
       "347  Low carb food for Diabetics     Bengaluru   \n",
       "348     Digital Lending Platform  Santa Monica   \n",
       "349            Wealth Management       Gurgaon   \n",
       "350                 B2B Foodtech     Bengaluru   \n",
       "351        University Admissions         Noida   \n",
       "352               Product Review       Gurgaon   \n",
       "353             Grocery Delivery       Gurgaon   \n",
       "354                    Bike Taxi     Bengaluru   \n",
       "\n",
       "                                          InvestorName InvestmentType  \\\n",
       "347  Rashmi Daga (founder, FreshMenu), Raveen Sastr...     Seed Round   \n",
       "348                                       RPS Ventures       Series D   \n",
       "349                            Tiger Global Management  Venture Round   \n",
       "350                          One97 Communications Ltd.       Series C   \n",
       "351                                         Growth DNA     Seed Round   \n",
       "352                                        Vir Sanghvi       Series A   \n",
       "353                               Softbank Vision Fund       Series F   \n",
       "354                                 Westbridge Capital       Series B   \n",
       "\n",
       "            Amount      NewAmount  \n",
       "347        500,000        500,000  \n",
       "348    110,000,000    110,000,000  \n",
       "349     15,000,000     15,000,000  \n",
       "350     6,590,000      6,590,000   \n",
       "351      10,00,000      10,00,000  \n",
       "352    Undisclosed    Undisclosed  \n",
       "353     70,000,000     70,000,000  \n",
       "354  3,900,000,000  3,900,000,000  "
      ]
     },
     "execution_count": 14,
     "metadata": {},
     "output_type": "execute_result"
    }
   ],
   "source": [
    "df['NewAmount'] = df['Amount']\n",
    "df.loc[((df['Amount'].str.contains('[a-zA-Z]')) | (df['Amount'].isin(['nan','']))) & (df['InvestmentType'].str.contains('[0-9]')), 'NewAmount'] = df['InvestmentType']\n",
    "df.iloc[347:355, :]"
   ]
  },
  {
   "cell_type": "code",
   "execution_count": 15,
   "metadata": {},
   "outputs": [],
   "source": [
    "import re"
   ]
  },
  {
   "cell_type": "code",
   "execution_count": 16,
   "metadata": {},
   "outputs": [
    {
     "data": {
      "text/html": [
       "<div>\n",
       "<style scoped>\n",
       "    .dataframe tbody tr th:only-of-type {\n",
       "        vertical-align: middle;\n",
       "    }\n",
       "\n",
       "    .dataframe tbody tr th {\n",
       "        vertical-align: top;\n",
       "    }\n",
       "\n",
       "    .dataframe thead th {\n",
       "        text-align: right;\n",
       "    }\n",
       "</style>\n",
       "<table border=\"1\" class=\"dataframe\">\n",
       "  <thead>\n",
       "    <tr style=\"text-align: right;\">\n",
       "      <th></th>\n",
       "      <th>Date</th>\n",
       "      <th>Startup</th>\n",
       "      <th>IndustryVertical</th>\n",
       "      <th>SubVertical</th>\n",
       "      <th>City</th>\n",
       "      <th>InvestorName</th>\n",
       "      <th>InvestmentType</th>\n",
       "      <th>Amount</th>\n",
       "      <th>NewAmount</th>\n",
       "    </tr>\n",
       "  </thead>\n",
       "  <tbody>\n",
       "    <tr>\n",
       "      <th>0</th>\n",
       "      <td>01/08/2015</td>\n",
       "      <td>Snapdeal</td>\n",
       "      <td>Ecommerce Marketplace</td>\n",
       "      <td>New Delhi</td>\n",
       "      <td>Alibaba, Foxconn, Softbank</td>\n",
       "      <td>Private Equity</td>\n",
       "      <td>500,000,000</td>\n",
       "      <td>Late Stage Round 7th (More details)</td>\n",
       "      <td>500000000.0</td>\n",
       "    </tr>\n",
       "    <tr>\n",
       "      <th>1</th>\n",
       "      <td>01/08/2015</td>\n",
       "      <td>Ressy</td>\n",
       "      <td>Restaurant Discount app</td>\n",
       "      <td>Pune</td>\n",
       "      <td>Mohandas Pai &amp; others</td>\n",
       "      <td>Seed Funding</td>\n",
       "      <td>400,000</td>\n",
       "      <td>NaN</td>\n",
       "      <td>0.0</td>\n",
       "    </tr>\n",
       "    <tr>\n",
       "      <th>2</th>\n",
       "      <td>03/08/2015</td>\n",
       "      <td>Cuelearn</td>\n",
       "      <td>Tech-enabled learning</td>\n",
       "      <td>New Delhi</td>\n",
       "      <td>Alok Mittal</td>\n",
       "      <td>Seed Funding</td>\n",
       "      <td>NaN</td>\n",
       "      <td>NaN</td>\n",
       "      <td>0.0</td>\n",
       "    </tr>\n",
       "    <tr>\n",
       "      <th>3</th>\n",
       "      <td>03/08/2015</td>\n",
       "      <td>Connect India</td>\n",
       "      <td>ECommerce Logistics provider</td>\n",
       "      <td>New Delhi</td>\n",
       "      <td>Aavishkaar</td>\n",
       "      <td>Private Equity</td>\n",
       "      <td>5,000,000</td>\n",
       "      <td>Series A</td>\n",
       "      <td>5000000.0</td>\n",
       "    </tr>\n",
       "    <tr>\n",
       "      <th>4</th>\n",
       "      <td>03/08/2015</td>\n",
       "      <td>The Home Salon</td>\n",
       "      <td>on-demand home beauty and wellness portal</td>\n",
       "      <td>Mumbai</td>\n",
       "      <td>VentureNursery</td>\n",
       "      <td>Seed Funding</td>\n",
       "      <td>NaN</td>\n",
       "      <td>NaN</td>\n",
       "      <td>0.0</td>\n",
       "    </tr>\n",
       "  </tbody>\n",
       "</table>\n",
       "</div>"
      ],
      "text/plain": [
       "         Date         Startup                           IndustryVertical  \\\n",
       "0  01/08/2015        Snapdeal                      Ecommerce Marketplace   \n",
       "1  01/08/2015           Ressy                    Restaurant Discount app   \n",
       "2  03/08/2015        Cuelearn                      Tech-enabled learning   \n",
       "3  03/08/2015   Connect India               ECommerce Logistics provider   \n",
       "4  03/08/2015  The Home Salon  on-demand home beauty and wellness portal   \n",
       "\n",
       "  SubVertical                        City    InvestorName InvestmentType  \\\n",
       "0   New Delhi  Alibaba, Foxconn, Softbank  Private Equity    500,000,000   \n",
       "1        Pune       Mohandas Pai & others    Seed Funding        400,000   \n",
       "2   New Delhi                 Alok Mittal    Seed Funding            NaN   \n",
       "3   New Delhi                  Aavishkaar  Private Equity      5,000,000   \n",
       "4      Mumbai              VentureNursery    Seed Funding            NaN   \n",
       "\n",
       "                                Amount    NewAmount  \n",
       "0  Late Stage Round 7th (More details)  500000000.0  \n",
       "1                                  NaN          0.0  \n",
       "2                                  NaN          0.0  \n",
       "3                             Series A    5000000.0  \n",
       "4                                  NaN          0.0  "
      ]
     },
     "execution_count": 16,
     "metadata": {},
     "output_type": "execute_result"
    }
   ],
   "source": [
    "# 6. Converting dftype of values in 'AmountUSD' column from string to float. Marking Undisclosed values to 'nan' and then converting into float type\n",
    "# Also imputing blank values in 'Amount' column by minimum funding amount\n",
    "\n",
    "df.loc[df['NewAmount'].isin(['undisclosed', 'unknown', 'Undisclosed', 'N/A']), 'NewAmount'] = 'nan'\n",
    "df['NewAmount'] = df['NewAmount'].astype(str)\n",
    "df['NewAmount'] = df['NewAmount'].apply(lambda x : re.sub(\"[^0-9]\", \"\", x))\n",
    "df.loc[df['NewAmount']=='', 'NewAmount'] = 0 #'nan' # replace with average of funding provided that months \n",
    "df['NewAmount'] = df['NewAmount'].astype(float)\n",
    "df.loc[df['NewAmount']==0.0, 'NewAmount'] = df['NewAmount'].min()\n",
    "df.head()"
   ]
  },
  {
   "cell_type": "code",
   "execution_count": 17,
   "metadata": {},
   "outputs": [],
   "source": [
    "## Correcting values in City column\n",
    "df.loc[df[\"City\"] == \"Bangalore\",'City'] = \"Bengaluru\"\n",
    "df.loc[df[\"City\"] == \"Gurgaon\",'City'] = \"Gurugram\"\n",
    "df.loc[df[\"City\"] == \"New Delhi\",'City'] = \"Delhi\""
   ]
  },
  {
   "cell_type": "code",
   "execution_count": 18,
   "metadata": {},
   "outputs": [
    {
     "data": {
      "text/html": [
       "<div>\n",
       "<style scoped>\n",
       "    .dataframe tbody tr th:only-of-type {\n",
       "        vertical-align: middle;\n",
       "    }\n",
       "\n",
       "    .dataframe tbody tr th {\n",
       "        vertical-align: top;\n",
       "    }\n",
       "\n",
       "    .dataframe thead th {\n",
       "        text-align: right;\n",
       "    }\n",
       "</style>\n",
       "<table border=\"1\" class=\"dataframe\">\n",
       "  <thead>\n",
       "    <tr style=\"text-align: right;\">\n",
       "      <th></th>\n",
       "      <th>Date</th>\n",
       "      <th>Startup</th>\n",
       "      <th>IndustryVertical</th>\n",
       "      <th>SubVertical</th>\n",
       "      <th>City</th>\n",
       "      <th>InvestorName</th>\n",
       "      <th>InvestmentType</th>\n",
       "      <th>Amount</th>\n",
       "      <th>NewAmount</th>\n",
       "    </tr>\n",
       "  </thead>\n",
       "  <tbody>\n",
       "    <tr>\n",
       "      <th>0</th>\n",
       "      <td>01/08/2015</td>\n",
       "      <td>Snapdeal</td>\n",
       "      <td>Ecommerce Marketplace</td>\n",
       "      <td>New Delhi</td>\n",
       "      <td>Alibaba, Foxconn, Softbank</td>\n",
       "      <td>Private Equity</td>\n",
       "      <td>500,000,000</td>\n",
       "      <td>Late Stage Round 7th (More details)</td>\n",
       "      <td>500000000.0</td>\n",
       "    </tr>\n",
       "    <tr>\n",
       "      <th>1</th>\n",
       "      <td>01/08/2015</td>\n",
       "      <td>Ressy</td>\n",
       "      <td>Restaurant Discount app</td>\n",
       "      <td>Pune</td>\n",
       "      <td>Mohandas Pai &amp; others</td>\n",
       "      <td>Seed Funding</td>\n",
       "      <td>400,000</td>\n",
       "      <td>NaN</td>\n",
       "      <td>0.0</td>\n",
       "    </tr>\n",
       "    <tr>\n",
       "      <th>2</th>\n",
       "      <td>03/08/2015</td>\n",
       "      <td>Cuelearn</td>\n",
       "      <td>Tech-enabled learning</td>\n",
       "      <td>New Delhi</td>\n",
       "      <td>Alok Mittal</td>\n",
       "      <td>Seed Funding</td>\n",
       "      <td>NaN</td>\n",
       "      <td>NaN</td>\n",
       "      <td>0.0</td>\n",
       "    </tr>\n",
       "    <tr>\n",
       "      <th>3</th>\n",
       "      <td>03/08/2015</td>\n",
       "      <td>Connect India</td>\n",
       "      <td>ECommerce Logistics provider</td>\n",
       "      <td>New Delhi</td>\n",
       "      <td>Aavishkaar</td>\n",
       "      <td>Private Equity</td>\n",
       "      <td>5,000,000</td>\n",
       "      <td>Series A</td>\n",
       "      <td>5000000.0</td>\n",
       "    </tr>\n",
       "    <tr>\n",
       "      <th>4</th>\n",
       "      <td>03/08/2015</td>\n",
       "      <td>The Home Salon</td>\n",
       "      <td>on-demand home beauty and wellness portal</td>\n",
       "      <td>Mumbai</td>\n",
       "      <td>VentureNursery</td>\n",
       "      <td>Seed Funding</td>\n",
       "      <td>NaN</td>\n",
       "      <td>NaN</td>\n",
       "      <td>0.0</td>\n",
       "    </tr>\n",
       "  </tbody>\n",
       "</table>\n",
       "</div>"
      ],
      "text/plain": [
       "         Date         Startup                           IndustryVertical  \\\n",
       "0  01/08/2015        Snapdeal                      Ecommerce Marketplace   \n",
       "1  01/08/2015           Ressy                    Restaurant Discount app   \n",
       "2  03/08/2015        Cuelearn                      Tech-enabled learning   \n",
       "3  03/08/2015   Connect India               ECommerce Logistics provider   \n",
       "4  03/08/2015  The Home Salon  on-demand home beauty and wellness portal   \n",
       "\n",
       "  SubVertical                        City    InvestorName InvestmentType  \\\n",
       "0   New Delhi  Alibaba, Foxconn, Softbank  Private Equity    500,000,000   \n",
       "1        Pune       Mohandas Pai & others    Seed Funding        400,000   \n",
       "2   New Delhi                 Alok Mittal    Seed Funding            NaN   \n",
       "3   New Delhi                  Aavishkaar  Private Equity      5,000,000   \n",
       "4      Mumbai              VentureNursery    Seed Funding            NaN   \n",
       "\n",
       "                                Amount    NewAmount  \n",
       "0  Late Stage Round 7th (More details)  500000000.0  \n",
       "1                                  NaN          0.0  \n",
       "2                                  NaN          0.0  \n",
       "3                             Series A    5000000.0  \n",
       "4                                  NaN          0.0  "
      ]
     },
     "execution_count": 18,
     "metadata": {},
     "output_type": "execute_result"
    }
   ],
   "source": [
    "df.head()"
   ]
  },
  {
   "cell_type": "code",
   "execution_count": 19,
   "metadata": {},
   "outputs": [
    {
     "name": "stdout",
     "output_type": "stream",
     "text": [
      "<class 'pandas.core.frame.DataFrame'>\n",
      "RangeIndex: 3511 entries, 0 to 3510\n",
      "Data columns (total 9 columns):\n",
      " #   Column            Non-Null Count  Dtype         \n",
      "---  ------            --------------  -----         \n",
      " 0   Date              3471 non-null   datetime64[ns]\n",
      " 1   Startup           3455 non-null   object        \n",
      " 2   IndustryVertical  3455 non-null   object        \n",
      " 3   SubVertical       3452 non-null   object        \n",
      " 4   City              3403 non-null   object        \n",
      " 5   InvestorName      3313 non-null   object        \n",
      " 6   InvestmentType    3039 non-null   object        \n",
      " 7   Amount            2145 non-null   object        \n",
      " 8   NewAmount         3511 non-null   float64       \n",
      "dtypes: datetime64[ns](1), float64(1), object(7)\n",
      "memory usage: 247.0+ KB\n"
     ]
    }
   ],
   "source": [
    "df['Date']= pd.to_datetime(df['Date'])\n",
    "df.info()"
   ]
  },
  {
   "cell_type": "code",
   "execution_count": 21,
   "metadata": {},
   "outputs": [],
   "source": [
    "df[\"Year\"] = df[\"Date\"].map(lambda x: x.year)\n",
    "df[\"Month\"] = df[\"Date\"].map(lambda x: x.month)"
   ]
  },
  {
   "cell_type": "code",
   "execution_count": 22,
   "metadata": {},
   "outputs": [],
   "source": [
    "df.loc[(df['InvestmentType'].isin(['', 'N/A', 'Undisclosed investors', 'Undisclosed Investor', 'Undisclosed Investors',\n",
    "            'Undisclosed', 'undisclosed investors', 'Undisclosed investor',\n",
    "            'Undisclosed multiple investors', 'Undisclosed angel investors',\n",
    "            '3 undisclosed investors'])) | (df['InvestmentType'].str.contains('[0-9]')), 'InvestmentType'] = 'Undisclosed Investors'"
   ]
  },
  {
   "cell_type": "code",
   "execution_count": 23,
   "metadata": {},
   "outputs": [
    {
     "data": {
      "text/html": [
       "<div>\n",
       "<style scoped>\n",
       "    .dataframe tbody tr th:only-of-type {\n",
       "        vertical-align: middle;\n",
       "    }\n",
       "\n",
       "    .dataframe tbody tr th {\n",
       "        vertical-align: top;\n",
       "    }\n",
       "\n",
       "    .dataframe thead th {\n",
       "        text-align: right;\n",
       "    }\n",
       "</style>\n",
       "<table border=\"1\" class=\"dataframe\">\n",
       "  <thead>\n",
       "    <tr style=\"text-align: right;\">\n",
       "      <th></th>\n",
       "      <th>Date</th>\n",
       "      <th>Startup</th>\n",
       "      <th>IndustryVertical</th>\n",
       "      <th>SubVertical</th>\n",
       "      <th>City</th>\n",
       "      <th>InvestorName</th>\n",
       "      <th>InvestmentType</th>\n",
       "      <th>Amount</th>\n",
       "      <th>NewAmount</th>\n",
       "      <th>Year</th>\n",
       "      <th>Month</th>\n",
       "    </tr>\n",
       "  </thead>\n",
       "  <tbody>\n",
       "    <tr>\n",
       "      <th>0</th>\n",
       "      <td>2015-01-08</td>\n",
       "      <td>Snapdeal</td>\n",
       "      <td>Ecommerce Marketplace</td>\n",
       "      <td>New Delhi</td>\n",
       "      <td>Alibaba, Foxconn, Softbank</td>\n",
       "      <td>Private Equity</td>\n",
       "      <td>Undisclosed Investors</td>\n",
       "      <td>Late Stage Round 7th (More details)</td>\n",
       "      <td>500000000.0</td>\n",
       "      <td>2015.0</td>\n",
       "      <td>1.0</td>\n",
       "    </tr>\n",
       "    <tr>\n",
       "      <th>1</th>\n",
       "      <td>2015-01-08</td>\n",
       "      <td>Ressy</td>\n",
       "      <td>Restaurant Discount app</td>\n",
       "      <td>Pune</td>\n",
       "      <td>Mohandas Pai &amp; others</td>\n",
       "      <td>Seed Funding</td>\n",
       "      <td>Undisclosed Investors</td>\n",
       "      <td>NaN</td>\n",
       "      <td>0.0</td>\n",
       "      <td>2015.0</td>\n",
       "      <td>1.0</td>\n",
       "    </tr>\n",
       "    <tr>\n",
       "      <th>2</th>\n",
       "      <td>2015-03-08</td>\n",
       "      <td>Cuelearn</td>\n",
       "      <td>Tech-enabled learning</td>\n",
       "      <td>New Delhi</td>\n",
       "      <td>Alok Mittal</td>\n",
       "      <td>Seed Funding</td>\n",
       "      <td>NaN</td>\n",
       "      <td>NaN</td>\n",
       "      <td>0.0</td>\n",
       "      <td>2015.0</td>\n",
       "      <td>3.0</td>\n",
       "    </tr>\n",
       "    <tr>\n",
       "      <th>3</th>\n",
       "      <td>2015-03-08</td>\n",
       "      <td>Connect India</td>\n",
       "      <td>ECommerce Logistics provider</td>\n",
       "      <td>New Delhi</td>\n",
       "      <td>Aavishkaar</td>\n",
       "      <td>Private Equity</td>\n",
       "      <td>Undisclosed Investors</td>\n",
       "      <td>Series A</td>\n",
       "      <td>5000000.0</td>\n",
       "      <td>2015.0</td>\n",
       "      <td>3.0</td>\n",
       "    </tr>\n",
       "    <tr>\n",
       "      <th>4</th>\n",
       "      <td>2015-03-08</td>\n",
       "      <td>The Home Salon</td>\n",
       "      <td>on-demand home beauty and wellness portal</td>\n",
       "      <td>Mumbai</td>\n",
       "      <td>VentureNursery</td>\n",
       "      <td>Seed Funding</td>\n",
       "      <td>NaN</td>\n",
       "      <td>NaN</td>\n",
       "      <td>0.0</td>\n",
       "      <td>2015.0</td>\n",
       "      <td>3.0</td>\n",
       "    </tr>\n",
       "  </tbody>\n",
       "</table>\n",
       "</div>"
      ],
      "text/plain": [
       "        Date         Startup                           IndustryVertical  \\\n",
       "0 2015-01-08        Snapdeal                      Ecommerce Marketplace   \n",
       "1 2015-01-08           Ressy                    Restaurant Discount app   \n",
       "2 2015-03-08        Cuelearn                      Tech-enabled learning   \n",
       "3 2015-03-08   Connect India               ECommerce Logistics provider   \n",
       "4 2015-03-08  The Home Salon  on-demand home beauty and wellness portal   \n",
       "\n",
       "  SubVertical                        City    InvestorName  \\\n",
       "0   New Delhi  Alibaba, Foxconn, Softbank  Private Equity   \n",
       "1        Pune       Mohandas Pai & others    Seed Funding   \n",
       "2   New Delhi                 Alok Mittal    Seed Funding   \n",
       "3   New Delhi                  Aavishkaar  Private Equity   \n",
       "4      Mumbai              VentureNursery    Seed Funding   \n",
       "\n",
       "          InvestmentType                               Amount    NewAmount  \\\n",
       "0  Undisclosed Investors  Late Stage Round 7th (More details)  500000000.0   \n",
       "1  Undisclosed Investors                                  NaN          0.0   \n",
       "2                    NaN                                  NaN          0.0   \n",
       "3  Undisclosed Investors                             Series A    5000000.0   \n",
       "4                    NaN                                  NaN          0.0   \n",
       "\n",
       "     Year  Month  \n",
       "0  2015.0    1.0  \n",
       "1  2015.0    1.0  \n",
       "2  2015.0    3.0  \n",
       "3  2015.0    3.0  \n",
       "4  2015.0    3.0  "
      ]
     },
     "execution_count": 23,
     "metadata": {},
     "output_type": "execute_result"
    }
   ],
   "source": [
    "df.head()"
   ]
  },
  {
   "cell_type": "code",
   "execution_count": 24,
   "metadata": {},
   "outputs": [],
   "source": [
    "df.loc[df['InvestorName'].isin(['',' ', \"N/A\"]), 'InvestorName'] = \"Undisclosed Investor\""
   ]
  },
  {
   "cell_type": "code",
   "execution_count": 25,
   "metadata": {},
   "outputs": [
    {
     "data": {
      "text/html": [
       "<div>\n",
       "<style scoped>\n",
       "    .dataframe tbody tr th:only-of-type {\n",
       "        vertical-align: middle;\n",
       "    }\n",
       "\n",
       "    .dataframe tbody tr th {\n",
       "        vertical-align: top;\n",
       "    }\n",
       "\n",
       "    .dataframe thead th {\n",
       "        text-align: right;\n",
       "    }\n",
       "</style>\n",
       "<table border=\"1\" class=\"dataframe\">\n",
       "  <thead>\n",
       "    <tr style=\"text-align: right;\">\n",
       "      <th></th>\n",
       "      <th>Date</th>\n",
       "      <th>Startup</th>\n",
       "      <th>IndustryVertical</th>\n",
       "      <th>SubVertical</th>\n",
       "      <th>City</th>\n",
       "      <th>InvestorName</th>\n",
       "      <th>InvestmentType</th>\n",
       "      <th>Amount</th>\n",
       "      <th>NewAmount</th>\n",
       "      <th>Year</th>\n",
       "      <th>Month</th>\n",
       "    </tr>\n",
       "  </thead>\n",
       "  <tbody>\n",
       "    <tr>\n",
       "      <th>0</th>\n",
       "      <td>2015-01-08</td>\n",
       "      <td>Snapdeal</td>\n",
       "      <td>Ecommerce Marketplace</td>\n",
       "      <td>New Delhi</td>\n",
       "      <td>Alibaba, Foxconn, Softbank</td>\n",
       "      <td>Private Equity</td>\n",
       "      <td>Undisclosed Investors</td>\n",
       "      <td>Late Stage Round 7th (More details)</td>\n",
       "      <td>500000000.0</td>\n",
       "      <td>2015.0</td>\n",
       "      <td>1.0</td>\n",
       "    </tr>\n",
       "    <tr>\n",
       "      <th>1</th>\n",
       "      <td>2015-01-08</td>\n",
       "      <td>Ressy</td>\n",
       "      <td>Restaurant Discount app</td>\n",
       "      <td>Pune</td>\n",
       "      <td>Mohandas Pai &amp; others</td>\n",
       "      <td>Seed Funding</td>\n",
       "      <td>Undisclosed Investors</td>\n",
       "      <td>NaN</td>\n",
       "      <td>0.0</td>\n",
       "      <td>2015.0</td>\n",
       "      <td>1.0</td>\n",
       "    </tr>\n",
       "    <tr>\n",
       "      <th>2</th>\n",
       "      <td>2015-03-08</td>\n",
       "      <td>Cuelearn</td>\n",
       "      <td>Tech-enabled learning</td>\n",
       "      <td>New Delhi</td>\n",
       "      <td>Alok Mittal</td>\n",
       "      <td>Seed Funding</td>\n",
       "      <td>NaN</td>\n",
       "      <td>NaN</td>\n",
       "      <td>0.0</td>\n",
       "      <td>2015.0</td>\n",
       "      <td>3.0</td>\n",
       "    </tr>\n",
       "    <tr>\n",
       "      <th>3</th>\n",
       "      <td>2015-03-08</td>\n",
       "      <td>Connect India</td>\n",
       "      <td>ECommerce Logistics provider</td>\n",
       "      <td>New Delhi</td>\n",
       "      <td>Aavishkaar</td>\n",
       "      <td>Private Equity</td>\n",
       "      <td>Undisclosed Investors</td>\n",
       "      <td>Series A</td>\n",
       "      <td>5000000.0</td>\n",
       "      <td>2015.0</td>\n",
       "      <td>3.0</td>\n",
       "    </tr>\n",
       "    <tr>\n",
       "      <th>4</th>\n",
       "      <td>2015-03-08</td>\n",
       "      <td>The Home Salon</td>\n",
       "      <td>on-demand home beauty and wellness portal</td>\n",
       "      <td>Mumbai</td>\n",
       "      <td>VentureNursery</td>\n",
       "      <td>Seed Funding</td>\n",
       "      <td>NaN</td>\n",
       "      <td>NaN</td>\n",
       "      <td>0.0</td>\n",
       "      <td>2015.0</td>\n",
       "      <td>3.0</td>\n",
       "    </tr>\n",
       "  </tbody>\n",
       "</table>\n",
       "</div>"
      ],
      "text/plain": [
       "        Date         Startup                           IndustryVertical  \\\n",
       "0 2015-01-08        Snapdeal                      Ecommerce Marketplace   \n",
       "1 2015-01-08           Ressy                    Restaurant Discount app   \n",
       "2 2015-03-08        Cuelearn                      Tech-enabled learning   \n",
       "3 2015-03-08   Connect India               ECommerce Logistics provider   \n",
       "4 2015-03-08  The Home Salon  on-demand home beauty and wellness portal   \n",
       "\n",
       "  SubVertical                        City    InvestorName  \\\n",
       "0   New Delhi  Alibaba, Foxconn, Softbank  Private Equity   \n",
       "1        Pune       Mohandas Pai & others    Seed Funding   \n",
       "2   New Delhi                 Alok Mittal    Seed Funding   \n",
       "3   New Delhi                  Aavishkaar  Private Equity   \n",
       "4      Mumbai              VentureNursery    Seed Funding   \n",
       "\n",
       "          InvestmentType                               Amount    NewAmount  \\\n",
       "0  Undisclosed Investors  Late Stage Round 7th (More details)  500000000.0   \n",
       "1  Undisclosed Investors                                  NaN          0.0   \n",
       "2                    NaN                                  NaN          0.0   \n",
       "3  Undisclosed Investors                             Series A    5000000.0   \n",
       "4                    NaN                                  NaN          0.0   \n",
       "\n",
       "     Year  Month  \n",
       "0  2015.0    1.0  \n",
       "1  2015.0    1.0  \n",
       "2  2015.0    3.0  \n",
       "3  2015.0    3.0  \n",
       "4  2015.0    3.0  "
      ]
     },
     "execution_count": 25,
     "metadata": {},
     "output_type": "execute_result"
    }
   ],
   "source": [
    "df.head()"
   ]
  },
  {
   "cell_type": "code",
   "execution_count": 26,
   "metadata": {},
   "outputs": [],
   "source": [
    "# 11. removing rows not having startup name\n",
    "df.drop(index=df[df['Startup']==''].index, inplace=True)"
   ]
  },
  {
   "cell_type": "code",
   "execution_count": 27,
   "metadata": {},
   "outputs": [
    {
     "data": {
      "text/html": [
       "<div>\n",
       "<style scoped>\n",
       "    .dataframe tbody tr th:only-of-type {\n",
       "        vertical-align: middle;\n",
       "    }\n",
       "\n",
       "    .dataframe tbody tr th {\n",
       "        vertical-align: top;\n",
       "    }\n",
       "\n",
       "    .dataframe thead th {\n",
       "        text-align: right;\n",
       "    }\n",
       "</style>\n",
       "<table border=\"1\" class=\"dataframe\">\n",
       "  <thead>\n",
       "    <tr style=\"text-align: right;\">\n",
       "      <th></th>\n",
       "      <th>Date</th>\n",
       "      <th>Startup</th>\n",
       "      <th>IndustryVertical</th>\n",
       "      <th>SubVertical</th>\n",
       "      <th>City</th>\n",
       "      <th>InvestorName</th>\n",
       "      <th>InvestmentType</th>\n",
       "      <th>Amount</th>\n",
       "      <th>NewAmount</th>\n",
       "      <th>Year</th>\n",
       "      <th>Month</th>\n",
       "    </tr>\n",
       "  </thead>\n",
       "  <tbody>\n",
       "    <tr>\n",
       "      <th>0</th>\n",
       "      <td>2015-01-08</td>\n",
       "      <td>Snapdeal</td>\n",
       "      <td>Ecommerce Marketplace</td>\n",
       "      <td>New Delhi</td>\n",
       "      <td>Alibaba, Foxconn, Softbank</td>\n",
       "      <td>Private Equity</td>\n",
       "      <td>Undisclosed Investors</td>\n",
       "      <td>Late Stage Round 7th (More details)</td>\n",
       "      <td>500000000.0</td>\n",
       "      <td>2015.0</td>\n",
       "      <td>1.0</td>\n",
       "    </tr>\n",
       "    <tr>\n",
       "      <th>1</th>\n",
       "      <td>2015-01-08</td>\n",
       "      <td>Ressy</td>\n",
       "      <td>Restaurant Discount app</td>\n",
       "      <td>Pune</td>\n",
       "      <td>Mohandas Pai &amp; others</td>\n",
       "      <td>Seed Funding</td>\n",
       "      <td>Undisclosed Investors</td>\n",
       "      <td>NaN</td>\n",
       "      <td>0.0</td>\n",
       "      <td>2015.0</td>\n",
       "      <td>1.0</td>\n",
       "    </tr>\n",
       "    <tr>\n",
       "      <th>2</th>\n",
       "      <td>2015-03-08</td>\n",
       "      <td>Cuelearn</td>\n",
       "      <td>Tech-enabled learning</td>\n",
       "      <td>New Delhi</td>\n",
       "      <td>Alok Mittal</td>\n",
       "      <td>Seed Funding</td>\n",
       "      <td>NaN</td>\n",
       "      <td>NaN</td>\n",
       "      <td>0.0</td>\n",
       "      <td>2015.0</td>\n",
       "      <td>3.0</td>\n",
       "    </tr>\n",
       "    <tr>\n",
       "      <th>3</th>\n",
       "      <td>2015-03-08</td>\n",
       "      <td>Connect India</td>\n",
       "      <td>ECommerce Logistics provider</td>\n",
       "      <td>New Delhi</td>\n",
       "      <td>Aavishkaar</td>\n",
       "      <td>Private Equity</td>\n",
       "      <td>Undisclosed Investors</td>\n",
       "      <td>Series A</td>\n",
       "      <td>5000000.0</td>\n",
       "      <td>2015.0</td>\n",
       "      <td>3.0</td>\n",
       "    </tr>\n",
       "    <tr>\n",
       "      <th>4</th>\n",
       "      <td>2015-03-08</td>\n",
       "      <td>The Home Salon</td>\n",
       "      <td>on-demand home beauty and wellness portal</td>\n",
       "      <td>Mumbai</td>\n",
       "      <td>VentureNursery</td>\n",
       "      <td>Seed Funding</td>\n",
       "      <td>NaN</td>\n",
       "      <td>NaN</td>\n",
       "      <td>0.0</td>\n",
       "      <td>2015.0</td>\n",
       "      <td>3.0</td>\n",
       "    </tr>\n",
       "  </tbody>\n",
       "</table>\n",
       "</div>"
      ],
      "text/plain": [
       "        Date         Startup                           IndustryVertical  \\\n",
       "0 2015-01-08        Snapdeal                      Ecommerce Marketplace   \n",
       "1 2015-01-08           Ressy                    Restaurant Discount app   \n",
       "2 2015-03-08        Cuelearn                      Tech-enabled learning   \n",
       "3 2015-03-08   Connect India               ECommerce Logistics provider   \n",
       "4 2015-03-08  The Home Salon  on-demand home beauty and wellness portal   \n",
       "\n",
       "  SubVertical                        City    InvestorName  \\\n",
       "0   New Delhi  Alibaba, Foxconn, Softbank  Private Equity   \n",
       "1        Pune       Mohandas Pai & others    Seed Funding   \n",
       "2   New Delhi                 Alok Mittal    Seed Funding   \n",
       "3   New Delhi                  Aavishkaar  Private Equity   \n",
       "4      Mumbai              VentureNursery    Seed Funding   \n",
       "\n",
       "          InvestmentType                               Amount    NewAmount  \\\n",
       "0  Undisclosed Investors  Late Stage Round 7th (More details)  500000000.0   \n",
       "1  Undisclosed Investors                                  NaN          0.0   \n",
       "2                    NaN                                  NaN          0.0   \n",
       "3  Undisclosed Investors                             Series A    5000000.0   \n",
       "4                    NaN                                  NaN          0.0   \n",
       "\n",
       "     Year  Month  \n",
       "0  2015.0    1.0  \n",
       "1  2015.0    1.0  \n",
       "2  2015.0    3.0  \n",
       "3  2015.0    3.0  \n",
       "4  2015.0    3.0  "
      ]
     },
     "execution_count": 27,
     "metadata": {},
     "output_type": "execute_result"
    }
   ],
   "source": [
    "df.head()"
   ]
  },
  {
   "cell_type": "code",
   "execution_count": 28,
   "metadata": {},
   "outputs": [],
   "source": [
    "startup_df = df[['Date', 'Year', 'Month', 'Startup', 'IndustryVertical', 'SubVertical', 'City', 'InvestorName', 'InvestmentType', 'NewAmount']]"
   ]
  },
  {
   "cell_type": "code",
   "execution_count": 29,
   "metadata": {},
   "outputs": [
    {
     "data": {
      "text/html": [
       "<div>\n",
       "<style scoped>\n",
       "    .dataframe tbody tr th:only-of-type {\n",
       "        vertical-align: middle;\n",
       "    }\n",
       "\n",
       "    .dataframe tbody tr th {\n",
       "        vertical-align: top;\n",
       "    }\n",
       "\n",
       "    .dataframe thead th {\n",
       "        text-align: right;\n",
       "    }\n",
       "</style>\n",
       "<table border=\"1\" class=\"dataframe\">\n",
       "  <thead>\n",
       "    <tr style=\"text-align: right;\">\n",
       "      <th></th>\n",
       "      <th>Date</th>\n",
       "      <th>Year</th>\n",
       "      <th>Month</th>\n",
       "      <th>Startup</th>\n",
       "      <th>IndustryVertical</th>\n",
       "      <th>SubVertical</th>\n",
       "      <th>City</th>\n",
       "      <th>InvestorName</th>\n",
       "      <th>InvestmentType</th>\n",
       "      <th>NewAmount</th>\n",
       "    </tr>\n",
       "  </thead>\n",
       "  <tbody>\n",
       "    <tr>\n",
       "      <th>0</th>\n",
       "      <td>2015-01-08</td>\n",
       "      <td>2015.0</td>\n",
       "      <td>1.0</td>\n",
       "      <td>Snapdeal</td>\n",
       "      <td>Ecommerce Marketplace</td>\n",
       "      <td>New Delhi</td>\n",
       "      <td>Alibaba, Foxconn, Softbank</td>\n",
       "      <td>Private Equity</td>\n",
       "      <td>Undisclosed Investors</td>\n",
       "      <td>500000000.0</td>\n",
       "    </tr>\n",
       "    <tr>\n",
       "      <th>1</th>\n",
       "      <td>2015-01-08</td>\n",
       "      <td>2015.0</td>\n",
       "      <td>1.0</td>\n",
       "      <td>Ressy</td>\n",
       "      <td>Restaurant Discount app</td>\n",
       "      <td>Pune</td>\n",
       "      <td>Mohandas Pai &amp; others</td>\n",
       "      <td>Seed Funding</td>\n",
       "      <td>Undisclosed Investors</td>\n",
       "      <td>0.0</td>\n",
       "    </tr>\n",
       "    <tr>\n",
       "      <th>2</th>\n",
       "      <td>2015-03-08</td>\n",
       "      <td>2015.0</td>\n",
       "      <td>3.0</td>\n",
       "      <td>Cuelearn</td>\n",
       "      <td>Tech-enabled learning</td>\n",
       "      <td>New Delhi</td>\n",
       "      <td>Alok Mittal</td>\n",
       "      <td>Seed Funding</td>\n",
       "      <td>NaN</td>\n",
       "      <td>0.0</td>\n",
       "    </tr>\n",
       "    <tr>\n",
       "      <th>3</th>\n",
       "      <td>2015-03-08</td>\n",
       "      <td>2015.0</td>\n",
       "      <td>3.0</td>\n",
       "      <td>Connect India</td>\n",
       "      <td>ECommerce Logistics provider</td>\n",
       "      <td>New Delhi</td>\n",
       "      <td>Aavishkaar</td>\n",
       "      <td>Private Equity</td>\n",
       "      <td>Undisclosed Investors</td>\n",
       "      <td>5000000.0</td>\n",
       "    </tr>\n",
       "    <tr>\n",
       "      <th>4</th>\n",
       "      <td>2015-03-08</td>\n",
       "      <td>2015.0</td>\n",
       "      <td>3.0</td>\n",
       "      <td>The Home Salon</td>\n",
       "      <td>on-demand home beauty and wellness portal</td>\n",
       "      <td>Mumbai</td>\n",
       "      <td>VentureNursery</td>\n",
       "      <td>Seed Funding</td>\n",
       "      <td>NaN</td>\n",
       "      <td>0.0</td>\n",
       "    </tr>\n",
       "  </tbody>\n",
       "</table>\n",
       "</div>"
      ],
      "text/plain": [
       "        Date    Year  Month         Startup  \\\n",
       "0 2015-01-08  2015.0    1.0        Snapdeal   \n",
       "1 2015-01-08  2015.0    1.0           Ressy   \n",
       "2 2015-03-08  2015.0    3.0        Cuelearn   \n",
       "3 2015-03-08  2015.0    3.0   Connect India   \n",
       "4 2015-03-08  2015.0    3.0  The Home Salon   \n",
       "\n",
       "                            IndustryVertical SubVertical  \\\n",
       "0                      Ecommerce Marketplace   New Delhi   \n",
       "1                    Restaurant Discount app        Pune   \n",
       "2                      Tech-enabled learning   New Delhi   \n",
       "3               ECommerce Logistics provider   New Delhi   \n",
       "4  on-demand home beauty and wellness portal      Mumbai   \n",
       "\n",
       "                         City    InvestorName         InvestmentType  \\\n",
       "0  Alibaba, Foxconn, Softbank  Private Equity  Undisclosed Investors   \n",
       "1       Mohandas Pai & others    Seed Funding  Undisclosed Investors   \n",
       "2                 Alok Mittal    Seed Funding                    NaN   \n",
       "3                  Aavishkaar  Private Equity  Undisclosed Investors   \n",
       "4              VentureNursery    Seed Funding                    NaN   \n",
       "\n",
       "     NewAmount  \n",
       "0  500000000.0  \n",
       "1          0.0  \n",
       "2          0.0  \n",
       "3    5000000.0  \n",
       "4          0.0  "
      ]
     },
     "execution_count": 29,
     "metadata": {},
     "output_type": "execute_result"
    }
   ],
   "source": [
    "startup_df.head()"
   ]
  },
  {
   "cell_type": "code",
   "execution_count": 30,
   "metadata": {},
   "outputs": [],
   "source": [
    "startup_df.to_csv(\"Startup.csv\")"
   ]
  },
  {
   "cell_type": "code",
   "execution_count": 31,
   "metadata": {},
   "outputs": [
    {
     "data": {
      "text/plain": [
       "Date                 40\n",
       "Year                 40\n",
       "Month                40\n",
       "Startup              56\n",
       "IndustryVertical     56\n",
       "SubVertical          59\n",
       "City                108\n",
       "InvestorName        198\n",
       "InvestmentType      472\n",
       "NewAmount             0\n",
       "dtype: int64"
      ]
     },
     "execution_count": 31,
     "metadata": {},
     "output_type": "execute_result"
    }
   ],
   "source": [
    "startup_df.isnull().sum()"
   ]
  },
  {
   "cell_type": "code",
   "execution_count": 32,
   "metadata": {},
   "outputs": [],
   "source": [
    "startup_df = startup_df.dropna(subset=[\"Date\"])"
   ]
  },
  {
   "cell_type": "code",
   "execution_count": 33,
   "metadata": {},
   "outputs": [
    {
     "data": {
      "text/plain": [
       "Date                  0\n",
       "Year                  0\n",
       "Month                 0\n",
       "Startup              16\n",
       "IndustryVertical     16\n",
       "SubVertical          19\n",
       "City                 68\n",
       "InvestorName        158\n",
       "InvestmentType      432\n",
       "NewAmount             0\n",
       "dtype: int64"
      ]
     },
     "execution_count": 33,
     "metadata": {},
     "output_type": "execute_result"
    }
   ],
   "source": [
    "startup_df.isnull().sum()"
   ]
  },
  {
   "cell_type": "code",
   "execution_count": 34,
   "metadata": {},
   "outputs": [],
   "source": [
    "startup_df = startup_df.dropna(subset=[\"Startup\"])\n",
    "startup_df = startup_df.dropna(subset=[\"IndustryVertical\"])\n",
    "startup_df = startup_df.dropna(subset=[\"SubVertical\"])\n",
    "startup_df = startup_df.dropna(subset=[\"City\"])\n",
    "startup_df = startup_df.dropna(subset=[\"InvestorName\"])\n",
    "startup_df = startup_df.dropna(subset=[\"InvestmentType\"])\n"
   ]
  },
  {
   "cell_type": "code",
   "execution_count": 35,
   "metadata": {},
   "outputs": [
    {
     "data": {
      "text/plain": [
       "Date                0\n",
       "Year                0\n",
       "Month               0\n",
       "Startup             0\n",
       "IndustryVertical    0\n",
       "SubVertical         0\n",
       "City                0\n",
       "InvestorName        0\n",
       "InvestmentType      0\n",
       "NewAmount           0\n",
       "dtype: int64"
      ]
     },
     "execution_count": 35,
     "metadata": {},
     "output_type": "execute_result"
    }
   ],
   "source": [
    "startup_df.isnull().sum()"
   ]
  },
  {
   "cell_type": "code",
   "execution_count": 36,
   "metadata": {},
   "outputs": [],
   "source": [
    "startup_df.to_csv(\"Startup.csv\")"
   ]
  },
  {
   "attachments": {},
   "cell_type": "markdown",
   "metadata": {},
   "source": [
    "#### EDA"
   ]
  },
  {
   "cell_type": "code",
   "execution_count": 37,
   "metadata": {},
   "outputs": [
    {
     "data": {
      "text/plain": [
       "['Date', 'Year', 'Month', 'NewAmount']"
      ]
     },
     "execution_count": 37,
     "metadata": {},
     "output_type": "execute_result"
    }
   ],
   "source": [
    "numerical_features = [feature for feature in startup_df.columns if startup_df[feature].dtypes!='O']\n",
    "numerical_features"
   ]
  },
  {
   "cell_type": "code",
   "execution_count": 38,
   "metadata": {},
   "outputs": [
    {
     "data": {
      "text/plain": [
       "['Year', 'Month']"
      ]
     },
     "execution_count": 38,
     "metadata": {},
     "output_type": "execute_result"
    }
   ],
   "source": [
    "discrete_features = [feature for feature in numerical_features if len(startup_df[feature].unique())<25]\n",
    "discrete_features"
   ]
  },
  {
   "cell_type": "code",
   "execution_count": 39,
   "metadata": {},
   "outputs": [
    {
     "data": {
      "image/png": "[encoded data removed]",
      "text/plain": [
       "<Figure size 432x288 with 1 Axes>"
      ]
     },
     "metadata": {
      "needs_background": "light"
     },
     "output_type": "display_data"
    },
    {
     "data": {
      "image/png": "[encoded data removed]",
      "text/plain": [
       "<Figure size 432x288 with 1 Axes>"
      ]
     },
     "metadata": {
      "needs_background": "light"
     },
     "output_type": "display_data"
    }
   ],
   "source": [
    "for feature in discrete_features:\n",
    "    data = startup_df.copy()\n",
    "    data.groupby(feature)['NewAmount'].median().plot.bar()\n",
    "    plt.xlabel(feature)\n",
    "    plt.ylabel(\"Amount\")\n",
    "    plt.title(feature)\n",
    "    plt.show()"
   ]
  },
  {
   "attachments": {},
   "cell_type": "markdown",
   "metadata": {},
   "source": [
    "Highest number of investments are in the month of July and November. The lowest number of investments are in the month of January and February. \n",
    "\n",
    "The highest number of investments are in the year 2021."
   ]
  },
  {
   "cell_type": "code",
   "execution_count": 40,
   "metadata": {},
   "outputs": [],
   "source": [
    "df2 = startup_df[\"City\"].value_counts().nlargest(10)"
   ]
  },
  {
   "cell_type": "code",
   "execution_count": 41,
   "metadata": {},
   "outputs": [
    {
     "data": {
      "text/plain": [
       "Bengaluru    784\n",
       "Mumbai       459\n",
       "Delhi        342\n",
       "Gurugram     319\n",
       "Pune         100\n",
       "Hyderabad     90\n",
       "Chennai       87\n",
       "Noida         76\n",
       "Ahmedabad     29\n",
       "Jaipur        27\n",
       "Name: City, dtype: int64"
      ]
     },
     "execution_count": 41,
     "metadata": {},
     "output_type": "execute_result"
    }
   ],
   "source": [
    "df2"
   ]
  },
  {
   "cell_type": "code",
   "execution_count": 42,
   "metadata": {},
   "outputs": [],
   "source": [
    "df3 = startup_df[\"InvestorName\"].value_counts().nlargest(10)"
   ]
  },
  {
   "cell_type": "code",
   "execution_count": 43,
   "metadata": {},
   "outputs": [
    {
     "data": {
      "text/plain": [
       "Private Equity           282\n",
       "Seed Funding             238\n",
       "Undisclosed Investors     31\n",
       "Undisclosed investors     23\n",
       "Indian Angel Network      17\n",
       "Ratan Tata                16\n",
       "Venture Catalysts         14\n",
       "Info Edge (India) Ltd     11\n",
       "Y Combinator              11\n",
       "undisclosed investors     11\n",
       "Name: InvestorName, dtype: int64"
      ]
     },
     "execution_count": 43,
     "metadata": {},
     "output_type": "execute_result"
    }
   ],
   "source": [
    "df3"
   ]
  },
  {
   "cell_type": "code",
   "execution_count": 44,
   "metadata": {},
   "outputs": [],
   "source": [
    "df4 = startup_df[\"InvestmentType\"].value_counts().nlargest(10)"
   ]
  },
  {
   "cell_type": "code",
   "execution_count": 45,
   "metadata": {},
   "outputs": [
    {
     "data": {
      "text/plain": [
       "Private Equity           1057\n",
       "Seed Funding              899\n",
       "Undisclosed Investors     519\n",
       "Seed/ Angel Funding       131\n",
       "Series A                   45\n",
       "Seed / Angel Funding       41\n",
       "Series B                   31\n",
       "Debt Funding               29\n",
       "Series C                   28\n",
       "Seed                       25\n",
       "Name: InvestmentType, dtype: int64"
      ]
     },
     "execution_count": 45,
     "metadata": {},
     "output_type": "execute_result"
    }
   ],
   "source": [
    "df4"
   ]
  },
  {
   "cell_type": "code",
   "execution_count": 46,
   "metadata": {},
   "outputs": [],
   "source": [
    "df5 = startup_df[\"Startup\"].value_counts().nlargest(10)"
   ]
  },
  {
   "cell_type": "code",
   "execution_count": 47,
   "metadata": {},
   "outputs": [
    {
     "data": {
      "text/plain": [
       "Nykaa           11\n",
       "Swiggy          10\n",
       "Ola Cabs         7\n",
       "Meesho           7\n",
       "Udaan            7\n",
       "Shuttl           7\n",
       "Blackbuck        6\n",
       "PolicyBazaar     6\n",
       "1mg              6\n",
       "EazyDiner        6\n",
       "Name: Startup, dtype: int64"
      ]
     },
     "execution_count": 47,
     "metadata": {},
     "output_type": "execute_result"
    }
   ],
   "source": [
    "df5"
   ]
  },
  {
   "cell_type": "code",
   "execution_count": 48,
   "metadata": {},
   "outputs": [],
   "source": [
    "df6 = startup_df[\"IndustryVertical\"].value_counts().nlargest(10)"
   ]
  },
  {
   "cell_type": "code",
   "execution_count": 49,
   "metadata": {},
   "outputs": [
    {
     "data": {
      "text/plain": [
       "Consumer Internet    1047\n",
       "Technology            511\n",
       "eCommerce             189\n",
       "Healthcare             87\n",
       "Finance                73\n",
       "ECommerce              61\n",
       "E-commerce             35\n",
       "Logistics              35\n",
       "E-Commerce             27\n",
       "Fin-Tech               24\n",
       "Name: IndustryVertical, dtype: int64"
      ]
     },
     "execution_count": 49,
     "metadata": {},
     "output_type": "execute_result"
    }
   ],
   "source": [
    "df6"
   ]
  },
  {
   "cell_type": "code",
   "execution_count": 50,
   "metadata": {},
   "outputs": [],
   "source": [
    "df7 = startup_df[\"SubVertical\"].value_counts().nlargest(10)"
   ]
  },
  {
   "cell_type": "code",
   "execution_count": 51,
   "metadata": {},
   "outputs": [
    {
     "data": {
      "text/plain": [
       "Bangalore                  137\n",
       "Mumbai                     115\n",
       "New Delhi                   80\n",
       "Gurgaon                     66\n",
       "Hyderabad                   18\n",
       "Pune                        17\n",
       "Chennai                     15\n",
       "Online Lending Platform     14\n",
       "Noida                       11\n",
       "Online Pharmacy             10\n",
       "Name: SubVertical, dtype: int64"
      ]
     },
     "execution_count": 51,
     "metadata": {},
     "output_type": "execute_result"
    }
   ],
   "source": [
    "df7"
   ]
  },
  {
   "cell_type": "code",
   "execution_count": 52,
   "metadata": {},
   "outputs": [
    {
     "data": {
      "text/plain": [
       "Index(['Date', 'Year', 'Month', 'Startup', 'IndustryVertical', 'SubVertical',\n",
       "       'City', 'InvestorName', 'InvestmentType', 'NewAmount'],\n",
       "      dtype='object')"
      ]
     },
     "execution_count": 52,
     "metadata": {},
     "output_type": "execute_result"
    }
   ],
   "source": [
    "startup_df.columns"
   ]
  },
  {
   "cell_type": "code",
   "execution_count": 53,
   "metadata": {},
   "outputs": [
    {
     "data": {
      "text/plain": [
       "['Startup',\n",
       " 'IndustryVertical',\n",
       " 'SubVertical',\n",
       " 'City',\n",
       " 'InvestorName',\n",
       " 'InvestmentType']"
      ]
     },
     "execution_count": 53,
     "metadata": {},
     "output_type": "execute_result"
    }
   ],
   "source": [
    "categorical_features = [feature for feature in startup_df.columns if startup_df[feature].dtypes=='O']\n",
    "categorical_features"
   ]
  },
  {
   "attachments": {},
   "cell_type": "markdown",
   "metadata": {},
   "source": [
    "### Number of fundings per year"
   ]
  },
  {
   "cell_type": "code",
   "execution_count": 56,
   "metadata": {},
   "outputs": [],
   "source": [
    "startup_df[\"Year\"] = startup_df[\"Year\"].astype('int')"
   ]
  },
  {
   "cell_type": "code",
   "execution_count": 59,
   "metadata": {},
   "outputs": [
    {
     "data": {
      "text/html": [
       "<div>\n",
       "<style scoped>\n",
       "    .dataframe tbody tr th:only-of-type {\n",
       "        vertical-align: middle;\n",
       "    }\n",
       "\n",
       "    .dataframe tbody tr th {\n",
       "        vertical-align: top;\n",
       "    }\n",
       "\n",
       "    .dataframe thead th {\n",
       "        text-align: right;\n",
       "    }\n",
       "</style>\n",
       "<table border=\"1\" class=\"dataframe\">\n",
       "  <thead>\n",
       "    <tr style=\"text-align: right;\">\n",
       "      <th></th>\n",
       "      <th>Number of Fundings</th>\n",
       "    </tr>\n",
       "  </thead>\n",
       "  <tbody>\n",
       "    <tr>\n",
       "      <th>2016</th>\n",
       "      <td>1013</td>\n",
       "    </tr>\n",
       "    <tr>\n",
       "      <th>2017</th>\n",
       "      <td>684</td>\n",
       "    </tr>\n",
       "    <tr>\n",
       "      <th>2015</th>\n",
       "      <td>520</td>\n",
       "    </tr>\n",
       "    <tr>\n",
       "      <th>2018</th>\n",
       "      <td>518</td>\n",
       "    </tr>\n",
       "    <tr>\n",
       "      <th>2020</th>\n",
       "      <td>117</td>\n",
       "    </tr>\n",
       "    <tr>\n",
       "      <th>2019</th>\n",
       "      <td>106</td>\n",
       "    </tr>\n",
       "    <tr>\n",
       "      <th>2021</th>\n",
       "      <td>29</td>\n",
       "    </tr>\n",
       "  </tbody>\n",
       "</table>\n",
       "</div>"
      ],
      "text/plain": [
       "      Number of Fundings\n",
       "2016                1013\n",
       "2017                 684\n",
       "2015                 520\n",
       "2018                 518\n",
       "2020                 117\n",
       "2019                 106\n",
       "2021                  29"
      ]
     },
     "execution_count": 59,
     "metadata": {},
     "output_type": "execute_result"
    }
   ],
   "source": [
    "funding_count_yr = pd.DataFrame(startup_df[\"Year\"].value_counts())\n",
    "funding_count_yr.rename(columns={\"Year\":\"Number of Fundings\"}, inplace=True)\n",
    "funding_count_yr"
   ]
  },
  {
   "cell_type": "code",
   "execution_count": 79,
   "metadata": {},
   "outputs": [
    {
     "data": {
      "text/html": [
       "<div>\n",
       "<style scoped>\n",
       "    .dataframe tbody tr th:only-of-type {\n",
       "        vertical-align: middle;\n",
       "    }\n",
       "\n",
       "    .dataframe tbody tr th {\n",
       "        vertical-align: top;\n",
       "    }\n",
       "\n",
       "    .dataframe thead th {\n",
       "        text-align: right;\n",
       "    }\n",
       "</style>\n",
       "<table border=\"1\" class=\"dataframe\">\n",
       "  <thead>\n",
       "    <tr style=\"text-align: right;\">\n",
       "      <th></th>\n",
       "      <th>Total Funding amount (in USD)</th>\n",
       "    </tr>\n",
       "    <tr>\n",
       "      <th>Year</th>\n",
       "      <th></th>\n",
       "    </tr>\n",
       "  </thead>\n",
       "  <tbody>\n",
       "    <tr>\n",
       "      <th>2015</th>\n",
       "      <td>7.034710e+09</td>\n",
       "    </tr>\n",
       "    <tr>\n",
       "      <th>2016</th>\n",
       "      <td>3.905806e+09</td>\n",
       "    </tr>\n",
       "    <tr>\n",
       "      <th>2017</th>\n",
       "      <td>1.042661e+10</td>\n",
       "    </tr>\n",
       "    <tr>\n",
       "      <th>2018</th>\n",
       "      <td>8.764096e+09</td>\n",
       "    </tr>\n",
       "    <tr>\n",
       "      <th>2019</th>\n",
       "      <td>1.098163e+10</td>\n",
       "    </tr>\n",
       "    <tr>\n",
       "      <th>2020</th>\n",
       "      <td>7.500000e+16</td>\n",
       "    </tr>\n",
       "    <tr>\n",
       "      <th>2021</th>\n",
       "      <td>3.915104e+09</td>\n",
       "    </tr>\n",
       "  </tbody>\n",
       "</table>\n",
       "</div>"
      ],
      "text/plain": [
       "      Total Funding amount (in USD)\n",
       "Year                               \n",
       "2015                   7.034710e+09\n",
       "2016                   3.905806e+09\n",
       "2017                   1.042661e+10\n",
       "2018                   8.764096e+09\n",
       "2019                   1.098163e+10\n",
       "2020                   7.500000e+16\n",
       "2021                   3.915104e+09"
      ]
     },
     "execution_count": 79,
     "metadata": {},
     "output_type": "execute_result"
    }
   ],
   "source": [
    "### Let us find the total sum of the funding amount for each year\n",
    "\n",
    "funding_sum_yr = pd.DataFrame(startup_df.groupby(\"Year\")[\"NewAmount\"].sum(),columns=[\"NewAmount\"])\n",
    "funding_sum_yr.rename(columns={\"NewAmount\":\"Total Funding amount (in USD)\"} , inplace=True)\n",
    "funding_sum_yr"
   ]
  },
  {
   "cell_type": "code",
   "execution_count": 80,
   "metadata": {},
   "outputs": [
    {
     "data": {
      "image/png": "[encoded data removed]",
      "text/plain": [
       "<Figure size 432x288 with 1 Axes>"
      ]
     },
     "metadata": {
      "needs_background": "light"
     },
     "output_type": "display_data"
    }
   ],
   "source": [
    "sns.barplot(x = funding_count_yr.index, y = funding_count_yr[\"Number of Fundings\"])\n",
    "plt.title(\"Number of Fundings per year\")\n",
    "plt.xlabel(\"Year\")\n",
    "plt.ylabel(\"Number of Fundings\")\n",
    "plt.show()"
   ]
  },
  {
   "cell_type": "code",
   "execution_count": 82,
   "metadata": {},
   "outputs": [
    {
     "data": {
      "image/png": "[encoded data removed]",
      "text/plain": [
       "<Figure size 432x288 with 1 Axes>"
      ]
     },
     "metadata": {
      "needs_background": "light"
     },
     "output_type": "display_data"
    }
   ],
   "source": [
    "sns.barplot(x = funding_sum_yr.index, y = funding_sum_yr[\"Total Funding amount (in USD)\"])\n",
    "plt.title(\"Total Funding amount per year\")\n",
    "plt.xlabel(\"Year\")\n",
    "plt.ylabel(\"Total Funding amount (in USD)\")\n",
    "plt.show()"
   ]
  },
  {
   "attachments": {},
   "cell_type": "markdown",
   "metadata": {},
   "source": [
    "Fundings in 2020 are much higher than all the others. The difference is of the order of 10^7."
   ]
  },
  {
   "attachments": {},
   "cell_type": "markdown",
   "metadata": {},
   "source": [
    "### Impact of cities in Startups"
   ]
  },
  {
   "cell_type": "code",
   "execution_count": 88,
   "metadata": {},
   "outputs": [
    {
     "data": {
      "text/html": [
       "<div>\n",
       "<style scoped>\n",
       "    .dataframe tbody tr th:only-of-type {\n",
       "        vertical-align: middle;\n",
       "    }\n",
       "\n",
       "    .dataframe tbody tr th {\n",
       "        vertical-align: top;\n",
       "    }\n",
       "\n",
       "    .dataframe thead th {\n",
       "        text-align: right;\n",
       "    }\n",
       "</style>\n",
       "<table border=\"1\" class=\"dataframe\">\n",
       "  <thead>\n",
       "    <tr style=\"text-align: right;\">\n",
       "      <th></th>\n",
       "      <th>Number of Fundings vs City</th>\n",
       "    </tr>\n",
       "  </thead>\n",
       "  <tbody>\n",
       "    <tr>\n",
       "      <th>Bengaluru</th>\n",
       "      <td>784</td>\n",
       "    </tr>\n",
       "    <tr>\n",
       "      <th>Mumbai</th>\n",
       "      <td>459</td>\n",
       "    </tr>\n",
       "    <tr>\n",
       "      <th>Delhi</th>\n",
       "      <td>342</td>\n",
       "    </tr>\n",
       "    <tr>\n",
       "      <th>Gurugram</th>\n",
       "      <td>319</td>\n",
       "    </tr>\n",
       "    <tr>\n",
       "      <th>Pune</th>\n",
       "      <td>100</td>\n",
       "    </tr>\n",
       "    <tr>\n",
       "      <th>Hyderabad</th>\n",
       "      <td>90</td>\n",
       "    </tr>\n",
       "    <tr>\n",
       "      <th>Chennai</th>\n",
       "      <td>87</td>\n",
       "    </tr>\n",
       "    <tr>\n",
       "      <th>Noida</th>\n",
       "      <td>76</td>\n",
       "    </tr>\n",
       "    <tr>\n",
       "      <th>Ahmedabad</th>\n",
       "      <td>29</td>\n",
       "    </tr>\n",
       "    <tr>\n",
       "      <th>Jaipur</th>\n",
       "      <td>27</td>\n",
       "    </tr>\n",
       "  </tbody>\n",
       "</table>\n",
       "</div>"
      ],
      "text/plain": [
       "           Number of Fundings vs City\n",
       "Bengaluru                         784\n",
       "Mumbai                            459\n",
       "Delhi                             342\n",
       "Gurugram                          319\n",
       "Pune                              100\n",
       "Hyderabad                          90\n",
       "Chennai                            87\n",
       "Noida                              76\n",
       "Ahmedabad                          29\n",
       "Jaipur                             27"
      ]
     },
     "execution_count": 88,
     "metadata": {},
     "output_type": "execute_result"
    }
   ],
   "source": [
    "city_funding = pd.DataFrame(startup_df[\"City\"].value_counts().nlargest(10))\n",
    "city_funding = city_funding.rename({\"City\":\"Number of Fundings vs City\"},axis=1)\n",
    "city_funding"
   ]
  },
  {
   "cell_type": "code",
   "execution_count": 112,
   "metadata": {},
   "outputs": [
    {
     "data": {
      "image/png": "[encoded data removed]",
      "text/plain": [
       "<Figure size 864x576 with 1 Axes>"
      ]
     },
     "metadata": {
      "needs_background": "light"
     },
     "output_type": "display_data"
    }
   ],
   "source": [
    "plt.figure(figsize=(12,8))\n",
    "sns.barplot(x = city_funding.index, y = city_funding[\"Number of Fundings vs City\"])\n",
    "plt.title(\"Number of fundings per city\",fontsize=20)\n",
    "plt.xlabel(\"City\", fontsize=20)\n",
    "plt.ylabel(\"Number of fundings\")\n",
    "plt.show()"
   ]
  },
  {
   "attachments": {},
   "cell_type": "markdown",
   "metadata": {},
   "source": [
    "As we can see, most of the fundings are in Banglore, since it is the IT hub of India. Mumbai is the second most popular city for startups."
   ]
  },
  {
   "cell_type": "code",
   "execution_count": 113,
   "metadata": {},
   "outputs": [
    {
     "data": {
      "text/html": [
       "<div>\n",
       "<style scoped>\n",
       "    .dataframe tbody tr th:only-of-type {\n",
       "        vertical-align: middle;\n",
       "    }\n",
       "\n",
       "    .dataframe tbody tr th {\n",
       "        vertical-align: top;\n",
       "    }\n",
       "\n",
       "    .dataframe thead th {\n",
       "        text-align: right;\n",
       "    }\n",
       "</style>\n",
       "<table border=\"1\" class=\"dataframe\">\n",
       "  <thead>\n",
       "    <tr style=\"text-align: right;\">\n",
       "      <th></th>\n",
       "      <th>Number of investments per Investor</th>\n",
       "    </tr>\n",
       "  </thead>\n",
       "  <tbody>\n",
       "    <tr>\n",
       "      <th>Private Equity</th>\n",
       "      <td>282</td>\n",
       "    </tr>\n",
       "    <tr>\n",
       "      <th>Seed Funding</th>\n",
       "      <td>238</td>\n",
       "    </tr>\n",
       "    <tr>\n",
       "      <th>Undisclosed Investors</th>\n",
       "      <td>31</td>\n",
       "    </tr>\n",
       "    <tr>\n",
       "      <th>Undisclosed investors</th>\n",
       "      <td>23</td>\n",
       "    </tr>\n",
       "    <tr>\n",
       "      <th>Indian Angel Network</th>\n",
       "      <td>17</td>\n",
       "    </tr>\n",
       "  </tbody>\n",
       "</table>\n",
       "</div>"
      ],
      "text/plain": [
       "                       Number of investments per Investor\n",
       "Private Equity                                        282\n",
       "Seed Funding                                          238\n",
       "Undisclosed Investors                                  31\n",
       "Undisclosed investors                                  23\n",
       "Indian Angel Network                                   17"
      ]
     },
     "execution_count": 113,
     "metadata": {},
     "output_type": "execute_result"
    }
   ],
   "source": [
    "### Top 5 investors\n",
    "\n",
    "investor_funding = pd.DataFrame(startup_df[\"InvestorName\"].value_counts().nlargest(5))\n",
    "investor_funding = investor_funding.rename(columns={\"InvestorName\":\"Number of investments per Investor\"})\n",
    "investor_funding"
   ]
  },
  {
   "cell_type": "code",
   "execution_count": 116,
   "metadata": {},
   "outputs": [
    {
     "data": {
      "image/png": "[encoded data removed]",
      "text/plain": [
       "<Figure size 864x576 with 1 Axes>"
      ]
     },
     "metadata": {
      "needs_background": "light"
     },
     "output_type": "display_data"
    }
   ],
   "source": [
    "plt.figure(figsize=(12,8))\n",
    "sns.barplot(x = investor_funding.index, y = investor_funding[\"Number of investments per Investor\"])\n",
    "plt.title(\"Number of investments per Investor\",fontsize=15)\n",
    "plt.xlabel(\"Investor Name\", fontsize=15)\n",
    "plt.ylabel(\"Numer of Investments\")\n",
    "plt.show()"
   ]
  },
  {
   "attachments": {},
   "cell_type": "markdown",
   "metadata": {},
   "source": [
    "### Thus, we have done the EDA on the dataset."
   ]
  }
 ],
 "metadata": {
  "kernelspec": {
   "display_name": "Python 3",
   "language": "python",
   "name": "python3"
  },
  "language_info": {
   "codemirror_mode": {
    "name": "ipython",
    "version": 3
   },
   "file_extension": ".py",
   "mimetype": "text/x-python",
   "name": "python",
   "nbconvert_exporter": "python",
   "pygments_lexer": "ipython3",
   "version": "3.7.9"
  },
  "orig_nbformat": 4,
  "vscode": {
   "interpreter": {
    "hash": "5109d816b82be14675a6b11f8e0f0d2e80f029176ed3710d54e125caa8520dfd"
   }
  }
 },
 "nbformat": 4,
 "nbformat_minor": 2
}
